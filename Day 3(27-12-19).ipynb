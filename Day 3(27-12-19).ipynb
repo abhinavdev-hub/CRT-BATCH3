{
 "cells": [
  {
   "cell_type": "code",
   "execution_count": 23,
   "metadata": {
    "scrolled": true
   },
   "outputs": [
    {
     "ename": "SyntaxError",
     "evalue": "invalid syntax (<ipython-input-23-d71aa03aac5d>, line 1)",
     "output_type": "error",
     "traceback": [
      "\u001b[1;36m  File \u001b[1;32m\"<ipython-input-23-d71aa03aac5d>\"\u001b[1;36m, line \u001b[1;32m1\u001b[0m\n\u001b[1;33m    5!\u001b[0m\n\u001b[1;37m     ^\u001b[0m\n\u001b[1;31mSyntaxError\u001b[0m\u001b[1;31m:\u001b[0m invalid syntax\n"
     ]
    }
   ],
   "source": [
    "5!"
   ]
  },
  {
   "cell_type": "code",
   "execution_count": 6,
   "metadata": {},
   "outputs": [
    {
     "name": "stdout",
     "output_type": "stream",
     "text": [
      "enter the size of list5\n",
      "enter list elements1\n",
      "enter list elements2\n",
      "enter list elements3\n",
      "enter list elements4\n",
      "enter list elements5\n",
      "[1, 2, 3, 4, 5]\n",
      "enter the number to be searched4\n",
      "Element is present at index  3\n"
     ]
    }
   ],
   "source": [
    "def bs(arr,low,key,high):\n",
    "    if high>=1:\n",
    "        mid=(low+high-1)//2\n",
    "        if(arr[mid] == key):\n",
    "            return mid\n",
    "        elif arr[mid] > key:\n",
    "            return bs(arr,low,key,mid-1)\n",
    "        elif arr[mid] < key:\n",
    "            return bs(arr,mid+1,key,high)\n",
    "    else:\n",
    "        return -1\n",
    "\n",
    "arr=[]\n",
    "high = int(input(\"enter the size of list\"))\n",
    "for i in range(0, high): \n",
    "    ele = int(input(\"enter list elements\")) \n",
    "  \n",
    "    arr.append(ele)  \n",
    "print(arr)\n",
    "     \n",
    "key=int(input(\"enter the number to be searched\"))\n",
    "low=0       \n",
    "result = bs(arr,0,key, high-1) \n",
    "  \n",
    "if result != -1: \n",
    "    print (\"Element is present at index % d\" % result )\n",
    "else: \n",
    "    print (\"Element is not present in array\")\n",
    "\n",
    "    "
   ]
  },
  {
   "cell_type": "code",
   "execution_count": 17,
   "metadata": {},
   "outputs": [
    {
     "name": "stdout",
     "output_type": "stream",
     "text": [
      "enter the size of list5\n",
      "enter list elements5\n",
      "enter list elements4\n",
      "enter list elements3\n",
      "enter list elements2\n",
      "enter list elements1\n",
      "[5, 4, 3, 2, 1]\n",
      "[5, 4, 3, 2, 1]\n"
     ]
    }
   ],
   "source": [
    "def bsort(arr1,low,n):\n",
    "    for i in range(n):\n",
    "        for j in range(i+1,n):\n",
    "            if arr[i] > arr[j]:\n",
    "                first_ele = arr1.pop(i)    \n",
    "                second_ele = arr1.pop(j) \n",
    "                arr1.insert(i, second_ele)   \n",
    "                arr1.insert(j, first_ele)\n",
    "        return arr1\n",
    "arr1=[]\n",
    "n = int(input(\"enter the size of list\"))\n",
    "for i in range(0, n): \n",
    "    ele = int(input(\"enter list elements\")) \n",
    "  \n",
    "    arr1.append(ele)  \n",
    "print(arr1)   \n",
    "arr2=bsort(arr1,0,n)\n",
    "print(arr2)"
   ]
  },
  {
   "cell_type": "code",
   "execution_count": null,
   "metadata": {},
   "outputs": [],
   "source": [
    "# prime number or not:\n",
    "\n",
    "num = int(input(\"Enter a number : \"))\n",
    "if num==1:\n",
    "    print(\"'1' is neither prime nor composite\")\n",
    "elif num%2!=0 and num%3!=0 and num%5!=0 and num%7!=0:\n",
    "    print(\"Given number is a prime number\")\n",
    "else:\n",
    "    print(\"Given number is not a prime number\")"
   ]
  },
  {
   "cell_type": "code",
   "execution_count": 35,
   "metadata": {},
   "outputs": [
    {
     "name": "stdout",
     "output_type": "stream",
     "text": [
      "Enter n value : 5\n",
      "Enter r value  : 3\n",
      "10\n"
     ]
    }
   ],
   "source": [
    "#printing ncr of given number\n",
    "\n",
    "def fact(i):\n",
    "    if i == 1:\n",
    "        return 1\n",
    "    return i*fact(i-1)\n",
    "def ncr(n,r):\n",
    "    return fact(n)//(fact (r)*fact(n-r)) \n",
    "n = int(input(\"Enter n value : \"))\n",
    "r = int(input(\"Enter r value  : \"))\n",
    "if n !=0 and n != 1:\n",
    "    print( ncr(n,r) )"
   ]
  },
  {
   "cell_type": "code",
   "execution_count": 45,
   "metadata": {},
   "outputs": [
    {
     "name": "stdout",
     "output_type": "stream",
     "text": [
      "Enter a number : 5\n",
      "[]\n"
     ]
    }
   ],
   "source": [
    "#printing 1 to n prime no's\n",
    "\n",
    "\n",
    "def prime(num):\n",
    "    ls=[]\n",
    "    for i in range(2,num+1):\n",
    "        if i%2!=0 and i%3!=0 and i%5!=0 and i%7!=0:\n",
    "            ls.append(i)\n",
    "    return ls\n",
    "    \n",
    "num = int(input(\"Enter a number : \"))\n",
    "print(prime(num))\n",
    "\n",
    "    "
   ]
  },
  {
   "cell_type": "code",
   "execution_count": null,
   "metadata": {},
   "outputs": [],
   "source": []
  }
 ],
 "metadata": {
  "kernelspec": {
   "display_name": "Python 3",
   "language": "python",
   "name": "python3"
  },
  "language_info": {
   "codemirror_mode": {
    "name": "ipython",
    "version": 3
   },
   "file_extension": ".py",
   "mimetype": "text/x-python",
   "name": "python",
   "nbconvert_exporter": "python",
   "pygments_lexer": "ipython3",
   "version": "3.7.4"
  }
 },
 "nbformat": 4,
 "nbformat_minor": 2
}
